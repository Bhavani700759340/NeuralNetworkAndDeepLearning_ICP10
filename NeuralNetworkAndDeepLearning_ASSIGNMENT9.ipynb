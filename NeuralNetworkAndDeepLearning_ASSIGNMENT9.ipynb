{
  "cells": [
    {
      "cell_type": "code",
      "execution_count": null,
      "metadata": {
        "id": "JFmKDYs7nHjg"
      },
      "outputs": [],
      "source": [
        "import pandas as pd #Basic packages for creating dataframes and loading dataset\n",
        "import numpy as np\n",
        "import matplotlib.pyplot as plt #Package for visualization\n",
        "import re #importing package for Regular expression operations\n",
        "from sklearn.model_selection import train_test_split #Package for splitting the data\n",
        "from sklearn.preprocessing import LabelEncoder #Package for conversion of categorical to Numerical\n",
        "from keras.preprocessing.text import Tokenizer #Tokenization\n",
        "from keras.preprocessing.sequence import pad_sequences #Add zeros or crop based on the length\n",
        "from keras.models import Sequential #Sequential Neural Network\n",
        "from keras.layers import Dense, Embedding, LSTM, SpatialDropout1D #For layers in Neural Network\n",
        "from keras.utils import to_categorical"
      ]
    },
    {
      "cell_type": "code",
      "execution_count": null,
      "metadata": {
        "colab": {
          "base_uri": "https://localhost:8080/",
          "height": 74
        },
        "id": "xjd0yCi7n0od",
        "outputId": "a892a5cb-9cb1-4df7-bf6c-511ee15fccba"
      },
      "outputs": [
        {
          "data": {
            "text/html": [
              "\n",
              "     <input type=\"file\" id=\"files-b9e1ed4f-9dcb-4252-87f6-8dcb7f40f851\" name=\"files[]\" multiple disabled\n",
              "        style=\"border:none\" />\n",
              "     <output id=\"result-b9e1ed4f-9dcb-4252-87f6-8dcb7f40f851\">\n",
              "      Upload widget is only available when the cell has been executed in the\n",
              "      current browser session. Please rerun this cell to enable.\n",
              "      </output>\n",
              "      <script>// Copyright 2017 Google LLC\n",
              "//\n",
              "// Licensed under the Apache License, Version 2.0 (the \"License\");\n",
              "// you may not use this file except in compliance with the License.\n",
              "// You may obtain a copy of the License at\n",
              "//\n",
              "//      http://www.apache.org/licenses/LICENSE-2.0\n",
              "//\n",
              "// Unless required by applicable law or agreed to in writing, software\n",
              "// distributed under the License is distributed on an \"AS IS\" BASIS,\n",
              "// WITHOUT WARRANTIES OR CONDITIONS OF ANY KIND, either express or implied.\n",
              "// See the License for the specific language governing permissions and\n",
              "// limitations under the License.\n",
              "\n",
              "/**\n",
              " * @fileoverview Helpers for google.colab Python module.\n",
              " */\n",
              "(function(scope) {\n",
              "function span(text, styleAttributes = {}) {\n",
              "  const element = document.createElement('span');\n",
              "  element.textContent = text;\n",
              "  for (const key of Object.keys(styleAttributes)) {\n",
              "    element.style[key] = styleAttributes[key];\n",
              "  }\n",
              "  return element;\n",
              "}\n",
              "\n",
              "// Max number of bytes which will be uploaded at a time.\n",
              "const MAX_PAYLOAD_SIZE = 100 * 1024;\n",
              "\n",
              "function _uploadFiles(inputId, outputId) {\n",
              "  const steps = uploadFilesStep(inputId, outputId);\n",
              "  const outputElement = document.getElementById(outputId);\n",
              "  // Cache steps on the outputElement to make it available for the next call\n",
              "  // to uploadFilesContinue from Python.\n",
              "  outputElement.steps = steps;\n",
              "\n",
              "  return _uploadFilesContinue(outputId);\n",
              "}\n",
              "\n",
              "// This is roughly an async generator (not supported in the browser yet),\n",
              "// where there are multiple asynchronous steps and the Python side is going\n",
              "// to poll for completion of each step.\n",
              "// This uses a Promise to block the python side on completion of each step,\n",
              "// then passes the result of the previous step as the input to the next step.\n",
              "function _uploadFilesContinue(outputId) {\n",
              "  const outputElement = document.getElementById(outputId);\n",
              "  const steps = outputElement.steps;\n",
              "\n",
              "  const next = steps.next(outputElement.lastPromiseValue);\n",
              "  return Promise.resolve(next.value.promise).then((value) => {\n",
              "    // Cache the last promise value to make it available to the next\n",
              "    // step of the generator.\n",
              "    outputElement.lastPromiseValue = value;\n",
              "    return next.value.response;\n",
              "  });\n",
              "}\n",
              "\n",
              "/**\n",
              " * Generator function which is called between each async step of the upload\n",
              " * process.\n",
              " * @param {string} inputId Element ID of the input file picker element.\n",
              " * @param {string} outputId Element ID of the output display.\n",
              " * @return {!Iterable<!Object>} Iterable of next steps.\n",
              " */\n",
              "function* uploadFilesStep(inputId, outputId) {\n",
              "  const inputElement = document.getElementById(inputId);\n",
              "  inputElement.disabled = false;\n",
              "\n",
              "  const outputElement = document.getElementById(outputId);\n",
              "  outputElement.innerHTML = '';\n",
              "\n",
              "  const pickedPromise = new Promise((resolve) => {\n",
              "    inputElement.addEventListener('change', (e) => {\n",
              "      resolve(e.target.files);\n",
              "    });\n",
              "  });\n",
              "\n",
              "  const cancel = document.createElement('button');\n",
              "  inputElement.parentElement.appendChild(cancel);\n",
              "  cancel.textContent = 'Cancel upload';\n",
              "  const cancelPromise = new Promise((resolve) => {\n",
              "    cancel.onclick = () => {\n",
              "      resolve(null);\n",
              "    };\n",
              "  });\n",
              "\n",
              "  // Wait for the user to pick the files.\n",
              "  const files = yield {\n",
              "    promise: Promise.race([pickedPromise, cancelPromise]),\n",
              "    response: {\n",
              "      action: 'starting',\n",
              "    }\n",
              "  };\n",
              "\n",
              "  cancel.remove();\n",
              "\n",
              "  // Disable the input element since further picks are not allowed.\n",
              "  inputElement.disabled = true;\n",
              "\n",
              "  if (!files) {\n",
              "    return {\n",
              "      response: {\n",
              "        action: 'complete',\n",
              "      }\n",
              "    };\n",
              "  }\n",
              "\n",
              "  for (const file of files) {\n",
              "    const li = document.createElement('li');\n",
              "    li.append(span(file.name, {fontWeight: 'bold'}));\n",
              "    li.append(span(\n",
              "        `(${file.type || 'n/a'}) - ${file.size} bytes, ` +\n",
              "        `last modified: ${\n",
              "            file.lastModifiedDate ? file.lastModifiedDate.toLocaleDateString() :\n",
              "                                    'n/a'} - `));\n",
              "    const percent = span('0% done');\n",
              "    li.appendChild(percent);\n",
              "\n",
              "    outputElement.appendChild(li);\n",
              "\n",
              "    const fileDataPromise = new Promise((resolve) => {\n",
              "      const reader = new FileReader();\n",
              "      reader.onload = (e) => {\n",
              "        resolve(e.target.result);\n",
              "      };\n",
              "      reader.readAsArrayBuffer(file);\n",
              "    });\n",
              "    // Wait for the data to be ready.\n",
              "    let fileData = yield {\n",
              "      promise: fileDataPromise,\n",
              "      response: {\n",
              "        action: 'continue',\n",
              "      }\n",
              "    };\n",
              "\n",
              "    // Use a chunked sending to avoid message size limits. See b/62115660.\n",
              "    let position = 0;\n",
              "    do {\n",
              "      const length = Math.min(fileData.byteLength - position, MAX_PAYLOAD_SIZE);\n",
              "      const chunk = new Uint8Array(fileData, position, length);\n",
              "      position += length;\n",
              "\n",
              "      const base64 = btoa(String.fromCharCode.apply(null, chunk));\n",
              "      yield {\n",
              "        response: {\n",
              "          action: 'append',\n",
              "          file: file.name,\n",
              "          data: base64,\n",
              "        },\n",
              "      };\n",
              "\n",
              "      let percentDone = fileData.byteLength === 0 ?\n",
              "          100 :\n",
              "          Math.round((position / fileData.byteLength) * 100);\n",
              "      percent.textContent = `${percentDone}% done`;\n",
              "\n",
              "    } while (position < fileData.byteLength);\n",
              "  }\n",
              "\n",
              "  // All done.\n",
              "  yield {\n",
              "    response: {\n",
              "      action: 'complete',\n",
              "    }\n",
              "  };\n",
              "}\n",
              "\n",
              "scope.google = scope.google || {};\n",
              "scope.google.colab = scope.google.colab || {};\n",
              "scope.google.colab._files = {\n",
              "  _uploadFiles,\n",
              "  _uploadFilesContinue,\n",
              "};\n",
              "})(self);\n",
              "</script> "
            ],
            "text/plain": [
              "<IPython.core.display.HTML object>"
            ]
          },
          "metadata": {},
          "output_type": "display_data"
        },
        {
          "name": "stdout",
          "output_type": "stream",
          "text": [
            "Saving sentiment.csv to sentiment.csv\n"
          ]
        }
      ],
      "source": [
        "import pandas as pd\n",
        "from google.colab import files\n",
        "\n",
        "\n",
        "uploaded = files.upload()\n",
        "\n",
        "# Load the dataset as a Pandas DataFrame\n",
        "dataset = pd.read_csv('sentiment.csv')\n",
        "\n",
        "# Select only the necessary columns 'text' and 'sentiment'\n",
        "mask = dataset.columns.isin(['text', 'sentiment'])\n",
        "data = dataset.loc[:, mask]\n"
      ]
    },
    {
      "cell_type": "code",
      "execution_count": null,
      "metadata": {
        "colab": {
          "base_uri": "https://localhost:8080/"
        },
        "id": "Uxbx6AmIoVe9",
        "outputId": "82da8e86-8035-45a7-c4eb-34cfdd043263"
      },
      "outputs": [
        {
          "name": "stderr",
          "output_type": "stream",
          "text": [
            "<ipython-input-7-cee1da567eb8>:1: SettingWithCopyWarning: \n",
            "A value is trying to be set on a copy of a slice from a DataFrame.\n",
            "Try using .loc[row_indexer,col_indexer] = value instead\n",
            "\n",
            "See the caveats in the documentation: https://pandas.pydata.org/pandas-docs/stable/user_guide/indexing.html#returning-a-view-versus-a-copy\n",
            "  data['text'] = data['text'].apply(lambda x: x.lower())\n",
            "<ipython-input-7-cee1da567eb8>:2: SettingWithCopyWarning: \n",
            "A value is trying to be set on a copy of a slice from a DataFrame.\n",
            "Try using .loc[row_indexer,col_indexer] = value instead\n",
            "\n",
            "See the caveats in the documentation: https://pandas.pydata.org/pandas-docs/stable/user_guide/indexing.html#returning-a-view-versus-a-copy\n",
            "  data['text'] = data['text'].apply((lambda x: re.sub('[^a-zA-z0-9\\s]', '', x)))\n"
          ]
        }
      ],
      "source": [
        "data['text'] = data['text'].apply(lambda x: x.lower())\n",
        "data['text'] = data['text'].apply((lambda x: re.sub('[^a-zA-z0-9\\s]', '', x)))"
      ]
    },
    {
      "cell_type": "code",
      "execution_count": null,
      "metadata": {
        "id": "vE5JAAOyoirM"
      },
      "outputs": [],
      "source": [
        "for idx, row in data.iterrows():\n",
        "    row[0] = row[0].replace('rt', ' ') #Removing Retweets\n"
      ]
    },
    {
      "cell_type": "code",
      "execution_count": null,
      "metadata": {
        "id": "OFtYhbvLonmg"
      },
      "outputs": [],
      "source": [
        "\n",
        "max_fatures = 2000\n",
        "tokenizer = Tokenizer(num_words=max_fatures, split=' ') #Maximum words is 2000 to tokenize sentence\n",
        "tokenizer.fit_on_texts(data['text'].values)\n",
        "X = tokenizer.texts_to_sequences(data['text'].values) #taking values to feature matrix\n"
      ]
    },
    {
      "cell_type": "code",
      "execution_count": null,
      "metadata": {
        "id": "NeE-0MaBosYA"
      },
      "outputs": [],
      "source": [
        "X = pad_sequences(X) #Padding the feature matrix\n",
        "\n",
        "embed_dim = 128 #Dimension of the Embedded layer\n",
        "lstm_out = 196 #Long short-term memory (LSTM) layer neurons"
      ]
    },
    {
      "cell_type": "code",
      "execution_count": null,
      "metadata": {
        "id": "r1WXh2Inow8u"
      },
      "outputs": [],
      "source": [
        "def createmodel():\n",
        "    model = Sequential() #Sequential Neural Network\n",
        "    model.add(Embedding(max_fatures, embed_dim,input_length = X.shape[1])) #input dimension 2000 Neurons, output dimension 128 Neurons\n",
        "    model.add(LSTM(lstm_out, dropout=0.2, recurrent_dropout=0.2)) #Drop out 20%, 196 output Neurons, recurrent dropout 20%\n",
        "    model.add(Dense(3,activation='softmax')) #3 output neurons[positive, Neutral, Negative], softmax as activation\n",
        "    model.compile(loss = 'categorical_crossentropy', optimizer='adam',metrics = ['accuracy']) #Compiling the model\n",
        "    return model\n",
        "# print(model.summary())"
      ]
    },
    {
      "cell_type": "code",
      "execution_count": null,
      "metadata": {
        "id": "N4BpyWn_o3oB"
      },
      "outputs": [],
      "source": [
        "\n",
        "\n",
        "labelencoder = LabelEncoder() #Applying label Encoding on the label matrix\n",
        "integer_encoded = labelencoder.fit_transform(data['sentiment']) #fitting the model\n",
        "y = to_categorical(integer_encoded)\n",
        "X_train, X_test, Y_train, Y_test = train_test_split(X,y, test_size = 0.33, random_state = 42) #67% training data, 33% test data split\n",
        "\n"
      ]
    },
    {
      "cell_type": "code",
      "execution_count": null,
      "metadata": {
        "colab": {
          "base_uri": "https://localhost:8080/"
        },
        "id": "qx6uzC8Eo8nR",
        "outputId": "15746096-e488-4ea9-9251-b0e16b899235"
      },
      "outputs": [
        {
          "name": "stdout",
          "output_type": "stream",
          "text": [
            "291/291 - 50s - loss: 0.8201 - accuracy: 0.6456 - 50s/epoch - 171ms/step\n",
            "144/144 - 3s - loss: 0.7597 - accuracy: 0.6695 - 3s/epoch - 21ms/step\n",
            "0.7596771717071533\n",
            "0.669506311416626\n"
          ]
        }
      ],
      "source": [
        "batch_size = 32 #Batch size 32\n",
        "model = createmodel() #Function call to Sequential Neural Network\n",
        "model.fit(X_train, Y_train, epochs = 1, batch_size=batch_size, verbose = 2) #verbose the higher, the more messages\n",
        "score,acc = model.evaluate(X_test,Y_test,verbose=2,batch_size=batch_size) #evaluating the model\n",
        "print(score)\n",
        "print(acc)\n"
      ]
    },
    {
      "cell_type": "code",
      "execution_count": null,
      "metadata": {
        "colab": {
          "base_uri": "https://localhost:8080/"
        },
        "id": "6XjX2QZMpExF",
        "outputId": "5a4dce58-c2f2-4718-c9c8-e210808be09c"
      },
      "outputs": [
        {
          "name": "stdout",
          "output_type": "stream",
          "text": [
            "['loss', 'accuracy']\n"
          ]
        }
      ],
      "source": [
        "print(model.metrics_names) #metrics of the model"
      ]
    },
    {
      "cell_type": "markdown",
      "metadata": {
        "id": "b9JDQpGhpGvY"
      },
      "source": [
        "1. Save the model and use the saved model to predict on new text data (ex, “A lot of good things are happening. We are respected again throughout the world, and that's a great thing.@realDonaldTrump”)"
      ]
    },
    {
      "cell_type": "code",
      "execution_count": null,
      "metadata": {
        "colab": {
          "base_uri": "https://localhost:8080/"
        },
        "id": "no6f3XPwpRMg",
        "outputId": "3b089fb0-154b-4416-ff45-474e4cdfe497"
      },
      "outputs": [
        {
          "name": "stderr",
          "output_type": "stream",
          "text": [
            "/usr/local/lib/python3.10/dist-packages/keras/src/engine/training.py:3103: UserWarning: You are saving your model as an HDF5 file via `model.save()`. This file format is considered legacy. We recommend using instead the native Keras format, e.g. `model.save('my_model.keras')`.\n",
            "  saving_api.save_model(\n"
          ]
        }
      ],
      "source": [
        "model.save('sentimentAnalysis.h5') #Saving the model"
      ]
    },
    {
      "cell_type": "code",
      "execution_count": null,
      "metadata": {
        "id": "s5aNiU2RpbcS"
      },
      "outputs": [],
      "source": [
        "from keras.models import load_model #Importing the package for importing the saved model\n",
        "model= load_model('sentimentAnalysis.h5') #loading the saved model"
      ]
    },
    {
      "cell_type": "code",
      "execution_count": null,
      "metadata": {
        "colab": {
          "base_uri": "https://localhost:8080/"
        },
        "id": "jFS3LUqYpiLD",
        "outputId": "d44adc22-118f-483c-94dc-95a72f1b5a89"
      },
      "outputs": [
        {
          "name": "stdout",
          "output_type": "stream",
          "text": [
            "[1 2 1 ... 2 0 2]\n",
            "0         Neutral\n",
            "1        Positive\n",
            "2         Neutral\n",
            "3        Positive\n",
            "4        Positive\n",
            "           ...   \n",
            "13866    Negative\n",
            "13867    Positive\n",
            "13868    Positive\n",
            "13869    Negative\n",
            "13870    Positive\n",
            "Name: sentiment, Length: 13871, dtype: object\n"
          ]
        }
      ],
      "source": [
        "print(integer_encoded)\n",
        "print(data['sentiment'])"
      ]
    },
    {
      "cell_type": "code",
      "execution_count": null,
      "metadata": {
        "colab": {
          "base_uri": "https://localhost:8080/"
        },
        "id": "LzItH_qqpoa-",
        "outputId": "1141b70c-6969-4300-8b3e-db26fc8c6bdb"
      },
      "outputs": [
        {
          "name": "stdout",
          "output_type": "stream",
          "text": [
            "1/1 - 0s - 308ms/epoch - 308ms/step\n",
            "[0.583223   0.18818773 0.22858927]\n",
            "Neutral\n"
          ]
        }
      ],
      "source": [
        "# Predicting on the text data\n",
        "sentence = ['A lot of good things are happening. We are respected again throughout the world, and that is a great thing.@realDonaldTrump']\n",
        "sentence = tokenizer.texts_to_sequences(sentence) # Tokenizing the sentence\n",
        "sentence = pad_sequences(sentence, maxlen=28, dtype='int32', value=0) # Padding the sentence\n",
        "sentiment_probs = model.predict(sentence, batch_size=1, verbose=2)[0] # Predicting the sentence text\n",
        "sentiment = np.argmax(sentiment_probs)\n",
        "\n",
        "print(sentiment_probs)\n",
        "if sentiment == 0:\n",
        "    print(\"Neutral\")\n",
        "elif sentiment < 0:\n",
        "    print(\"Negative\")\n",
        "elif sentiment > 0:\n",
        "    print(\"Positive\")\n",
        "else:\n",
        "    print(\"Cannot be determined\")\n"
      ]
    },
    {
      "cell_type": "markdown",
      "metadata": {
        "id": "yB379kyLpvY9"
      },
      "source": [
        "2. Apply GridSearchCV on the source code provided in the class"
      ]
    },
    {
      "cell_type": "code",
      "execution_count": null,
      "metadata": {
        "colab": {
          "base_uri": "https://localhost:8080/"
        },
        "id": "rJzA9EILpzw8",
        "outputId": "e464ef18-1437-44d4-9f85-16efd1eae614"
      },
      "outputs": [
        {
          "name": "stdout",
          "output_type": "stream",
          "text": [
            "Collecting scikeras\n",
            "  Downloading scikeras-0.12.0-py3-none-any.whl (27 kB)\n",
            "Requirement already satisfied: packaging>=0.21 in /usr/local/lib/python3.10/dist-packages (from scikeras) (24.0)\n",
            "Requirement already satisfied: scikit-learn>=1.0.0 in /usr/local/lib/python3.10/dist-packages (from scikeras) (1.2.2)\n",
            "Requirement already satisfied: numpy>=1.17.3 in /usr/local/lib/python3.10/dist-packages (from scikit-learn>=1.0.0->scikeras) (1.25.2)\n",
            "Requirement already satisfied: scipy>=1.3.2 in /usr/local/lib/python3.10/dist-packages (from scikit-learn>=1.0.0->scikeras) (1.11.4)\n",
            "Requirement already satisfied: joblib>=1.1.1 in /usr/local/lib/python3.10/dist-packages (from scikit-learn>=1.0.0->scikeras) (1.3.2)\n",
            "Requirement already satisfied: threadpoolctl>=2.0.0 in /usr/local/lib/python3.10/dist-packages (from scikit-learn>=1.0.0->scikeras) (3.4.0)\n",
            "Installing collected packages: scikeras\n",
            "Successfully installed scikeras-0.12.0\n"
          ]
        }
      ],
      "source": [
        "pip install scikeras"
      ]
    },
    {
      "cell_type": "code",
      "execution_count": null,
      "metadata": {
        "colab": {
          "background_save": true,
          "base_uri": "https://localhost:8080/"
        },
        "id": "aXQlw8fwp71l",
        "outputId": "e50d1eda-ff39-46fa-c1ec-08519012d592"
      },
      "outputs": [
        {
          "name": "stdout",
          "output_type": "stream",
          "text": [
            "744/744 - 105s - loss: 0.8292 - accuracy: 0.6466 - 105s/epoch - 140ms/step\n",
            "186/186 - 3s - 3s/epoch - 17ms/step\n",
            "744/744 - 96s - loss: 0.8222 - accuracy: 0.6470 - 96s/epoch - 128ms/step\n",
            "186/186 - 3s - 3s/epoch - 14ms/step\n",
            "744/744 - 97s - loss: 0.8255 - accuracy: 0.6415 - 97s/epoch - 131ms/step\n",
            "186/186 - 3s - 3s/epoch - 14ms/step\n",
            "744/744 - 105s - loss: 0.8282 - accuracy: 0.6465 - 105s/epoch - 141ms/step\n",
            "186/186 - 3s - 3s/epoch - 15ms/step\n",
            "744/744 - 108s - loss: 0.8236 - accuracy: 0.6413 - 108s/epoch - 145ms/step\n",
            "186/186 - 4s - 4s/epoch - 20ms/step\n",
            "Epoch 1/2\n",
            "744/744 - 104s - loss: 0.8268 - accuracy: 0.6453 - 104s/epoch - 139ms/step\n",
            "Epoch 2/2\n",
            "744/744 - 94s - loss: 0.6838 - accuracy: 0.7100 - 94s/epoch - 126ms/step\n",
            "186/186 - 3s - 3s/epoch - 14ms/step\n",
            "Epoch 1/2\n",
            "744/744 - 99s - loss: 0.8260 - accuracy: 0.6422 - 99s/epoch - 133ms/step\n",
            "Epoch 2/2\n",
            "744/744 - 93s - loss: 0.6822 - accuracy: 0.7063 - 93s/epoch - 126ms/step\n",
            "186/186 - 3s - 3s/epoch - 14ms/step\n",
            "Epoch 1/2\n",
            "744/744 - 100s - loss: 0.8263 - accuracy: 0.6433 - 100s/epoch - 134ms/step\n",
            "Epoch 2/2\n",
            "744/744 - 95s - loss: 0.6749 - accuracy: 0.7168 - 95s/epoch - 128ms/step\n",
            "186/186 - 4s - 4s/epoch - 19ms/step\n",
            "Epoch 1/2\n",
            "744/744 - 96s - loss: 0.8201 - accuracy: 0.6492 - 96s/epoch - 130ms/step\n",
            "Epoch 2/2\n",
            "744/744 - 95s - loss: 0.6705 - accuracy: 0.7182 - 95s/epoch - 128ms/step\n",
            "186/186 - 3s - 3s/epoch - 15ms/step\n",
            "Epoch 1/2\n",
            "744/744 - 98s - loss: 0.8238 - accuracy: 0.6433 - 98s/epoch - 132ms/step\n",
            "Epoch 2/2\n",
            "744/744 - 92s - loss: 0.6673 - accuracy: 0.7174 - 92s/epoch - 124ms/step\n",
            "186/186 - 4s - 4s/epoch - 21ms/step\n",
            "372/372 - 59s - loss: 0.8373 - accuracy: 0.6376 - 59s/epoch - 159ms/step\n",
            "93/93 - 2s - 2s/epoch - 21ms/step\n",
            "372/372 - 58s - loss: 0.8301 - accuracy: 0.6416 - 58s/epoch - 157ms/step\n",
            "93/93 - 2s - 2s/epoch - 20ms/step\n",
            "372/372 - 54s - loss: 0.8315 - accuracy: 0.6407 - 54s/epoch - 146ms/step\n",
            "93/93 - 2s - 2s/epoch - 20ms/step\n",
            "372/372 - 56s - loss: 0.8262 - accuracy: 0.6455 - 56s/epoch - 152ms/step\n",
            "93/93 - 4s - 4s/epoch - 38ms/step\n",
            "372/372 - 58s - loss: 0.8273 - accuracy: 0.6448 - 58s/epoch - 157ms/step\n",
            "93/93 - 2s - 2s/epoch - 21ms/step\n",
            "Epoch 1/2\n",
            "372/372 - 55s - loss: 0.8286 - accuracy: 0.6416 - 55s/epoch - 147ms/step\n",
            "Epoch 2/2\n",
            "372/372 - 52s - loss: 0.6850 - accuracy: 0.7094 - 52s/epoch - 141ms/step\n",
            "93/93 - 2s - 2s/epoch - 19ms/step\n",
            "Epoch 1/2\n",
            "372/372 - 54s - loss: 0.8279 - accuracy: 0.6435 - 54s/epoch - 145ms/step\n",
            "Epoch 2/2\n",
            "372/372 - 52s - loss: 0.6785 - accuracy: 0.7104 - 52s/epoch - 139ms/step\n",
            "93/93 - 2s - 2s/epoch - 19ms/step\n",
            "Epoch 1/2\n",
            "372/372 - 57s - loss: 0.8356 - accuracy: 0.6367 - 57s/epoch - 154ms/step\n",
            "Epoch 2/2\n",
            "372/372 - 55s - loss: 0.6875 - accuracy: 0.7089 - 55s/epoch - 149ms/step\n",
            "93/93 - 2s - 2s/epoch - 24ms/step\n",
            "Epoch 1/2\n",
            "372/372 - 55s - loss: 0.8329 - accuracy: 0.6430 - 55s/epoch - 148ms/step\n",
            "Epoch 2/2\n",
            "372/372 - 54s - loss: 0.6730 - accuracy: 0.7068 - 54s/epoch - 144ms/step\n",
            "93/93 - 2s - 2s/epoch - 22ms/step\n",
            "Epoch 1/2\n",
            "372/372 - 55s - loss: 0.8194 - accuracy: 0.6402 - 55s/epoch - 148ms/step\n",
            "Epoch 2/2\n",
            "372/372 - 50s - loss: 0.6682 - accuracy: 0.7154 - 50s/epoch - 135ms/step\n",
            "93/93 - 2s - 2s/epoch - 19ms/step\n",
            "186/186 - 36s - loss: 0.8509 - accuracy: 0.6338 - 36s/epoch - 196ms/step\n",
            "47/47 - 2s - 2s/epoch - 34ms/step\n",
            "186/186 - 35s - loss: 0.8387 - accuracy: 0.6441 - 35s/epoch - 188ms/step\n",
            "47/47 - 1s - 1s/epoch - 27ms/step\n",
            "186/186 - 34s - loss: 0.8479 - accuracy: 0.6303 - 34s/epoch - 182ms/step\n",
            "47/47 - 1s - 1s/epoch - 26ms/step\n",
            "186/186 - 36s - loss: 0.8581 - accuracy: 0.6342 - 36s/epoch - 192ms/step\n",
            "47/47 - 1s - 1s/epoch - 27ms/step\n",
            "186/186 - 35s - loss: 0.8444 - accuracy: 0.6324 - 35s/epoch - 187ms/step\n",
            "47/47 - 1s - 1s/epoch - 27ms/step\n",
            "Epoch 1/2\n",
            "186/186 - 34s - loss: 0.8477 - accuracy: 0.6387 - 34s/epoch - 184ms/step\n",
            "Epoch 2/2\n",
            "186/186 - 31s - loss: 0.6926 - accuracy: 0.7058 - 31s/epoch - 165ms/step\n",
            "47/47 - 1s - 1s/epoch - 26ms/step\n",
            "Epoch 1/2\n",
            "186/186 - 34s - loss: 0.8403 - accuracy: 0.6380 - 34s/epoch - 181ms/step\n",
            "Epoch 2/2\n",
            "186/186 - 30s - loss: 0.6839 - accuracy: 0.7049 - 30s/epoch - 159ms/step\n",
            "47/47 - 2s - 2s/epoch - 44ms/step\n",
            "Epoch 1/2\n",
            "186/186 - 37s - loss: 0.8503 - accuracy: 0.6328 - 37s/epoch - 197ms/step\n",
            "Epoch 2/2\n",
            "186/186 - 32s - loss: 0.6844 - accuracy: 0.7094 - 32s/epoch - 171ms/step\n",
            "47/47 - 1s - 1s/epoch - 27ms/step\n",
            "Epoch 1/2\n",
            "186/186 - 35s - loss: 0.8440 - accuracy: 0.6305 - 35s/epoch - 190ms/step\n",
            "Epoch 2/2\n",
            "186/186 - 31s - loss: 0.6877 - accuracy: 0.7061 - 31s/epoch - 165ms/step\n",
            "47/47 - 1s - 1s/epoch - 27ms/step\n",
            "Epoch 1/2\n",
            "186/186 - 36s - loss: 0.8466 - accuracy: 0.6334 - 36s/epoch - 192ms/step\n",
            "Epoch 2/2\n",
            "186/186 - 30s - loss: 0.6773 - accuracy: 0.7131 - 30s/epoch - 161ms/step\n",
            "47/47 - 1s - 1s/epoch - 26ms/step\n",
            "Epoch 1/2\n",
            "233/233 - 45s - loss: 0.8281 - accuracy: 0.6421 - 45s/epoch - 192ms/step\n",
            "Epoch 2/2\n",
            "233/233 - 40s - loss: 0.6862 - accuracy: 0.7104 - 40s/epoch - 173ms/step\n",
            "Best: 0.680620 using {'batch_size': 40, 'epochs': 2}\n"
          ]
        }
      ],
      "source": [
        "from scikeras.wrappers import KerasClassifier #importing Keras classifier\n",
        "\n",
        "from sklearn.model_selection import GridSearchCV #importing Grid search CV\n",
        "\n",
        "model = KerasClassifier(model=createmodel,verbose=2) #initiating model to test performance by applying multiple hyper parameters\n",
        "batch_size= [10, 20, 40] #hyper parameter batch_size\n",
        "epochs = [1, 2] #hyper parameter no. of epochs\n",
        "param_grid= {'batch_size':batch_size, 'epochs':epochs} #creating dictionary for batch size, no. of epochs\n",
        "grid  = GridSearchCV(estimator=model, param_grid=param_grid) #Applying dictionary with hyper parameters\n",
        "grid_result= grid.fit(X_train,Y_train) #Fitting the model\n",
        "# summarize results\n",
        "print(\"Best: %f using %s\" % (grid_result.best_score_, grid_result.best_params_)) #best score, best hyper parameters"
      ]
    }
  ],
  "metadata": {
    "colab": {
      "provenance": []
    },
    "kernelspec": {
      "display_name": "Python 3",
      "name": "python3"
    },
    "language_info": {
      "name": "python"
    }
  },
  "nbformat": 4,
  "nbformat_minor": 0
}